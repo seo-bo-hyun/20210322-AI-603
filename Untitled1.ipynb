{
  "nbformat": 4,
  "nbformat_minor": 0,
  "metadata": {
    "colab": {
      "name": "Untitled1.ipynb",
      "provenance": [],
      "collapsed_sections": [],
      "authorship_tag": "ABX9TyNUQaGwhBHsKEIorxSxGVl/",
      "include_colab_link": true
    },
    "kernelspec": {
      "name": "python3",
      "display_name": "Python 3"
    },
    "language_info": {
      "name": "python"
    }
  },
  "cells": [
    {
      "cell_type": "markdown",
      "metadata": {
        "id": "view-in-github",
        "colab_type": "text"
      },
      "source": [
        "<a href=\"https://colab.research.google.com/github/seo-bo-hyun/20210322-AI-603/blob/main/Untitled1.ipynb\" target=\"_parent\"><img src=\"https://colab.research.google.com/assets/colab-badge.svg\" alt=\"Open In Colab\"/></a>"
      ]
    },
    {
      "cell_type": "code",
      "metadata": {
        "id": "FHA4vhrlf0I1"
      },
      "source": [
        "import numpy as np\n",
        "import pandas as pd\n",
        "import matplotlib.pyplot as plt\n"
      ],
      "execution_count": null,
      "outputs": []
    },
    {
      "cell_type": "code",
      "metadata": {
        "id": "dTNA26Auf9-V"
      },
      "source": [
        "def celsius_to_faherenheit(x):\n",
        "  return x * 1.8 + 32"
      ],
      "execution_count": null,
      "outputs": []
    },
    {
      "cell_type": "code",
      "metadata": {
        "colab": {
          "base_uri": "https://localhost:8080/"
        },
        "id": "NbTIo7ADgGvT",
        "outputId": "5ee7f674-5ffb-4fb2-fe36-6ec81a1957ef"
      },
      "source": [
        "inp = int(input(\"섭씨 온도를 입력하세요\\n\"))\n",
        "print(\"화씨온도로\", celsius_to_faherenheit(inp), \"입니다\")\n",
        "if celsius_to_faherenheit(inp) < 200:\n",
        "  print(\"따뜻합니다\")\n",
        "elif celsius_to_faherenheit(inp) > 200:\n",
        "  print(\"뜨겁습니다\") \n"
      ],
      "execution_count": null,
      "outputs": [
        {
          "output_type": "stream",
          "text": [
            "섭씨 온도를 입력하세요\n",
            "20\n",
            "화씨온도로 68.0 입니다\n",
            "따뜻합니다\n"
          ],
          "name": "stdout"
        }
      ]
    },
    {
      "cell_type": "code",
      "metadata": {
        "id": "72BCy6HxgatN"
      },
      "source": [
        "def celsius_to_faherenheit1(y):\n",
        "  return y * 1.8 + 32"
      ],
      "execution_count": null,
      "outputs": []
    },
    {
      "cell_type": "code",
      "metadata": {
        "colab": {
          "base_uri": "https://localhost:8080/"
        },
        "id": "j3iB5SwPjkEL",
        "outputId": "20fecab4-2167-4f9d-e930-b2a5d9f62157"
      },
      "source": [
        "data_C = np.array(range(0, 100),)\n",
        "data_F = celsius_to_faherenheit1(data_C)\n",
        "print(data_C, \"\\n\")\n",
        "print(data_F)"
      ],
      "execution_count": null,
      "outputs": [
        {
          "output_type": "stream",
          "text": [
            "[ 0  1  2  3  4  5  6  7  8  9 10 11 12 13 14 15 16 17 18 19 20 21 22 23\n",
            " 24 25 26 27 28 29 30 31 32 33 34 35 36 37 38 39 40 41 42 43 44 45 46 47\n",
            " 48 49 50 51 52 53 54 55 56 57 58 59 60 61 62 63 64 65 66 67 68 69 70 71\n",
            " 72 73 74 75 76 77 78 79 80 81 82 83 84 85 86 87 88 89 90 91 92 93 94 95\n",
            " 96 97 98 99] \n",
            "\n",
            "[ 32.   33.8  35.6  37.4  39.2  41.   42.8  44.6  46.4  48.2  50.   51.8\n",
            "  53.6  55.4  57.2  59.   60.8  62.6  64.4  66.2  68.   69.8  71.6  73.4\n",
            "  75.2  77.   78.8  80.6  82.4  84.2  86.   87.8  89.6  91.4  93.2  95.\n",
            "  96.8  98.6 100.4 102.2 104.  105.8 107.6 109.4 111.2 113.  114.8 116.6\n",
            " 118.4 120.2 122.  123.8 125.6 127.4 129.2 131.  132.8 134.6 136.4 138.2\n",
            " 140.  141.8 143.6 145.4 147.2 149.  150.8 152.6 154.4 156.2 158.  159.8\n",
            " 161.6 163.4 165.2 167.  168.8 170.6 172.4 174.2 176.  177.8 179.6 181.4\n",
            " 183.2 185.  186.8 188.6 190.4 192.2 194.  195.8 197.6 199.4 201.2 203.\n",
            " 204.8 206.6 208.4 210.2]\n"
          ],
          "name": "stdout"
        }
      ]
    },
    {
      "cell_type": "code",
      "metadata": {
        "id": "6aKUZe3AkBja"
      },
      "source": [
        "from tensorflow.keras.models import Sequential\n",
        "from tensorflow.keras.layers import Dense"
      ],
      "execution_count": null,
      "outputs": []
    },
    {
      "cell_type": "code",
      "metadata": {
        "colab": {
          "base_uri": "https://localhost:8080/"
        },
        "id": "HiN11G_2nshT",
        "outputId": "84ec1b9f-b8be-4286-fcca-5c9b8af8dd81"
      },
      "source": [
        "model = Sequential()\n",
        "model.add(Dense(1, input_dim = 1))\n",
        "\n",
        "model.compile(loss = 'mse', optimizer = 'rmsprop', metrics = ['mae'])\n",
        "print(model.summary())"
      ],
      "execution_count": null,
      "outputs": [
        {
          "output_type": "stream",
          "text": [
            "Model: \"sequential_1\"\n",
            "_________________________________________________________________\n",
            "Layer (type)                 Output Shape              Param #   \n",
            "=================================================================\n",
            "dense_1 (Dense)              (None, 1)                 2         \n",
            "=================================================================\n",
            "Total params: 2\n",
            "Trainable params: 2\n",
            "Non-trainable params: 0\n",
            "_________________________________________________________________\n",
            "None\n"
          ],
          "name": "stdout"
        }
      ]
    },
    {
      "cell_type": "code",
      "metadata": {
        "colab": {
          "base_uri": "https://localhost:8080/"
        },
        "id": "a_EXNEmfonvp",
        "outputId": "65a9aacf-988f-470a-df77-ec677813286b"
      },
      "source": [
        "print(model.predict([1]))"
      ],
      "execution_count": null,
      "outputs": [
        {
          "output_type": "stream",
          "text": [
            "[[-1.0885451]]\n"
          ],
          "name": "stdout"
        }
      ]
    },
    {
      "cell_type": "code",
      "metadata": {
        "id": "UfB4SzvNowJy"
      },
      "source": [
        "model.save(\"/content/before_learning.h5\")"
      ],
      "execution_count": null,
      "outputs": []
    },
    {
      "cell_type": "code",
      "metadata": {
        "id": "hsXg4y9Xo6qa"
      },
      "source": [
        "scaled_data_C = data_C / 100\n",
        "scaled_data_F = data_F / 100"
      ],
      "execution_count": null,
      "outputs": []
    },
    {
      "cell_type": "code",
      "metadata": {
        "colab": {
          "base_uri": "https://localhost:8080/"
        },
        "id": "pPqdaWoopCtr",
        "outputId": "4a5c82af-7793-4053-df17-a9cb4b51a26f"
      },
      "source": [
        "print(scaled_data_C)\n",
        "print(scaled_data_F)"
      ],
      "execution_count": null,
      "outputs": [
        {
          "output_type": "stream",
          "text": [
            "[0.   0.01 0.02 0.03 0.04 0.05 0.06 0.07 0.08 0.09 0.1  0.11 0.12 0.13\n",
            " 0.14 0.15 0.16 0.17 0.18 0.19 0.2  0.21 0.22 0.23 0.24 0.25 0.26 0.27\n",
            " 0.28 0.29 0.3  0.31 0.32 0.33 0.34 0.35 0.36 0.37 0.38 0.39 0.4  0.41\n",
            " 0.42 0.43 0.44 0.45 0.46 0.47 0.48 0.49 0.5  0.51 0.52 0.53 0.54 0.55\n",
            " 0.56 0.57 0.58 0.59 0.6  0.61 0.62 0.63 0.64 0.65 0.66 0.67 0.68 0.69\n",
            " 0.7  0.71 0.72 0.73 0.74 0.75 0.76 0.77 0.78 0.79 0.8  0.81 0.82 0.83\n",
            " 0.84 0.85 0.86 0.87 0.88 0.89 0.9  0.91 0.92 0.93 0.94 0.95 0.96 0.97\n",
            " 0.98 0.99]\n",
            "[0.32  0.338 0.356 0.374 0.392 0.41  0.428 0.446 0.464 0.482 0.5   0.518\n",
            " 0.536 0.554 0.572 0.59  0.608 0.626 0.644 0.662 0.68  0.698 0.716 0.734\n",
            " 0.752 0.77  0.788 0.806 0.824 0.842 0.86  0.878 0.896 0.914 0.932 0.95\n",
            " 0.968 0.986 1.004 1.022 1.04  1.058 1.076 1.094 1.112 1.13  1.148 1.166\n",
            " 1.184 1.202 1.22  1.238 1.256 1.274 1.292 1.31  1.328 1.346 1.364 1.382\n",
            " 1.4   1.418 1.436 1.454 1.472 1.49  1.508 1.526 1.544 1.562 1.58  1.598\n",
            " 1.616 1.634 1.652 1.67  1.688 1.706 1.724 1.742 1.76  1.778 1.796 1.814\n",
            " 1.832 1.85  1.868 1.886 1.904 1.922 1.94  1.958 1.976 1.994 2.012 2.03\n",
            " 2.048 2.066 2.084 2.102]\n"
          ],
          "name": "stdout"
        }
      ]
    },
    {
      "cell_type": "code",
      "metadata": {
        "id": "z5P6p1iXpmy7",
        "colab": {
          "base_uri": "https://localhost:8080/"
        },
        "outputId": "d243ab2c-02f7-4b74-aa8c-93bb8fe82219"
      },
      "source": [
        "fit_hist = model.fit(scaled_data_C, scaled_data_F, epochs = 200, verbose = 1)"
      ],
      "execution_count": null,
      "outputs": [
        {
          "output_type": "stream",
          "text": [
            "Epoch 1/200\n",
            "4/4 [==============================] - 0s 3ms/step - loss: 1.6153e-07 - mae: 3.7765e-04\n",
            "Epoch 2/200\n",
            "4/4 [==============================] - 0s 3ms/step - loss: 1.1624e-06 - mae: 0.0011\n",
            "Epoch 3/200\n",
            "4/4 [==============================] - 0s 3ms/step - loss: 7.8835e-07 - mae: 8.2755e-04\n",
            "Epoch 4/200\n",
            "4/4 [==============================] - 0s 3ms/step - loss: 6.6347e-08 - mae: 2.5207e-04\n",
            "Epoch 5/200\n",
            "4/4 [==============================] - 0s 3ms/step - loss: 2.0189e-07 - mae: 4.2850e-04\n",
            "Epoch 6/200\n",
            "4/4 [==============================] - 0s 3ms/step - loss: 1.5593e-06 - mae: 0.0012\n",
            "Epoch 7/200\n",
            "4/4 [==============================] - 0s 3ms/step - loss: 2.2018e-07 - mae: 4.6058e-04\n",
            "Epoch 8/200\n",
            "4/4 [==============================] - 0s 2ms/step - loss: 3.2941e-07 - mae: 5.5907e-04\n",
            "Epoch 9/200\n",
            "4/4 [==============================] - 0s 2ms/step - loss: 1.1047e-06 - mae: 0.0010\n",
            "Epoch 10/200\n",
            "4/4 [==============================] - 0s 3ms/step - loss: 5.1834e-07 - mae: 6.9453e-04\n",
            "Epoch 11/200\n",
            "4/4 [==============================] - 0s 4ms/step - loss: 5.4840e-07 - mae: 7.2231e-04\n",
            "Epoch 12/200\n",
            "4/4 [==============================] - 0s 3ms/step - loss: 4.1880e-07 - mae: 6.3381e-04\n",
            "Epoch 13/200\n",
            "4/4 [==============================] - 0s 3ms/step - loss: 2.5633e-07 - mae: 4.8143e-04\n",
            "Epoch 14/200\n",
            "4/4 [==============================] - 0s 3ms/step - loss: 1.0699e-06 - mae: 0.0010\n",
            "Epoch 15/200\n",
            "4/4 [==============================] - 0s 4ms/step - loss: 4.4883e-07 - mae: 6.5683e-04\n",
            "Epoch 16/200\n",
            "4/4 [==============================] - 0s 3ms/step - loss: 6.6452e-07 - mae: 7.9356e-04\n",
            "Epoch 17/200\n",
            "4/4 [==============================] - 0s 4ms/step - loss: 7.4396e-07 - mae: 8.3402e-04\n",
            "Epoch 18/200\n",
            "4/4 [==============================] - 0s 4ms/step - loss: 2.7025e-07 - mae: 5.0791e-04\n",
            "Epoch 19/200\n",
            "4/4 [==============================] - 0s 4ms/step - loss: 8.7529e-07 - mae: 9.1679e-04\n",
            "Epoch 20/200\n",
            "4/4 [==============================] - 0s 4ms/step - loss: 5.0066e-07 - mae: 6.9389e-04\n",
            "Epoch 21/200\n",
            "4/4 [==============================] - 0s 3ms/step - loss: 3.3519e-08 - mae: 1.6838e-04\n",
            "Epoch 22/200\n",
            "4/4 [==============================] - 0s 3ms/step - loss: 1.9019e-07 - mae: 3.8144e-04\n",
            "Epoch 23/200\n",
            "4/4 [==============================] - 0s 3ms/step - loss: 1.9785e-06 - mae: 0.0014\n",
            "Epoch 24/200\n",
            "4/4 [==============================] - 0s 4ms/step - loss: 1.4317e-07 - mae: 3.5782e-04\n",
            "Epoch 25/200\n",
            "4/4 [==============================] - 0s 4ms/step - loss: 2.1140e-07 - mae: 4.4601e-04\n",
            "Epoch 26/200\n",
            "4/4 [==============================] - 0s 4ms/step - loss: 6.6297e-07 - mae: 7.8526e-04\n",
            "Epoch 27/200\n",
            "4/4 [==============================] - 0s 5ms/step - loss: 1.0865e-06 - mae: 9.9633e-04\n",
            "Epoch 28/200\n",
            "4/4 [==============================] - 0s 4ms/step - loss: 1.0205e-07 - mae: 2.9568e-04\n",
            "Epoch 29/200\n",
            "4/4 [==============================] - 0s 2ms/step - loss: 2.7168e-07 - mae: 4.9417e-04\n",
            "Epoch 30/200\n",
            "4/4 [==============================] - 0s 3ms/step - loss: 9.3636e-07 - mae: 9.3916e-04\n",
            "Epoch 31/200\n",
            "4/4 [==============================] - 0s 4ms/step - loss: 9.3219e-07 - mae: 9.0231e-04\n",
            "Epoch 32/200\n",
            "4/4 [==============================] - 0s 3ms/step - loss: 6.1301e-08 - mae: 2.4245e-04\n",
            "Epoch 33/200\n",
            "4/4 [==============================] - 0s 2ms/step - loss: 1.8926e-07 - mae: 4.1414e-04\n",
            "Epoch 34/200\n",
            "4/4 [==============================] - 0s 3ms/step - loss: 3.2259e-07 - mae: 4.9363e-04\n",
            "Epoch 35/200\n",
            "4/4 [==============================] - 0s 3ms/step - loss: 1.6875e-06 - mae: 0.0012\n",
            "Epoch 36/200\n",
            "4/4 [==============================] - 0s 3ms/step - loss: 1.2335e-07 - mae: 3.3910e-04\n",
            "Epoch 37/200\n",
            "4/4 [==============================] - 0s 3ms/step - loss: 1.0945e-07 - mae: 3.2197e-04\n",
            "Epoch 38/200\n",
            "4/4 [==============================] - 0s 3ms/step - loss: 4.0811e-07 - mae: 5.8635e-04\n",
            "Epoch 39/200\n",
            "4/4 [==============================] - 0s 3ms/step - loss: 1.4144e-06 - mae: 0.0011\n",
            "Epoch 40/200\n",
            "4/4 [==============================] - 0s 3ms/step - loss: 3.3941e-07 - mae: 5.6637e-04\n",
            "Epoch 41/200\n",
            "4/4 [==============================] - 0s 6ms/step - loss: 4.7891e-08 - mae: 2.1096e-04\n",
            "Epoch 42/200\n",
            "4/4 [==============================] - 0s 3ms/step - loss: 2.3551e-07 - mae: 4.4255e-04\n",
            "Epoch 43/200\n",
            "4/4 [==============================] - 0s 3ms/step - loss: 1.6916e-06 - mae: 0.0013\n",
            "Epoch 44/200\n",
            "4/4 [==============================] - 0s 3ms/step - loss: 1.4966e-08 - mae: 1.0357e-04\n",
            "Epoch 45/200\n",
            "4/4 [==============================] - 0s 3ms/step - loss: 4.0323e-08 - mae: 1.7616e-04\n",
            "Epoch 46/200\n",
            "4/4 [==============================] - 0s 5ms/step - loss: 1.0605e-06 - mae: 9.6698e-04\n",
            "Epoch 47/200\n",
            "4/4 [==============================] - 0s 3ms/step - loss: 7.3114e-07 - mae: 8.3268e-04\n",
            "Epoch 48/200\n",
            "4/4 [==============================] - 0s 3ms/step - loss: 1.5184e-07 - mae: 3.7562e-04\n",
            "Epoch 49/200\n",
            "4/4 [==============================] - 0s 5ms/step - loss: 9.7677e-07 - mae: 9.6571e-04\n",
            "Epoch 50/200\n",
            "4/4 [==============================] - 0s 4ms/step - loss: 2.0200e-07 - mae: 4.3779e-04\n",
            "Epoch 51/200\n",
            "4/4 [==============================] - 0s 4ms/step - loss: 8.2229e-07 - mae: 8.8332e-04\n",
            "Epoch 52/200\n",
            "4/4 [==============================] - 0s 5ms/step - loss: 3.2005e-07 - mae: 5.5289e-04\n",
            "Epoch 53/200\n",
            "4/4 [==============================] - 0s 3ms/step - loss: 8.4546e-07 - mae: 9.0170e-04\n",
            "Epoch 54/200\n",
            "4/4 [==============================] - 0s 3ms/step - loss: 6.7710e-07 - mae: 7.9436e-04\n",
            "Epoch 55/200\n",
            "4/4 [==============================] - 0s 4ms/step - loss: 3.3841e-07 - mae: 5.7101e-04\n",
            "Epoch 56/200\n",
            "4/4 [==============================] - 0s 4ms/step - loss: 1.5388e-07 - mae: 3.7954e-04\n",
            "Epoch 57/200\n",
            "4/4 [==============================] - 0s 3ms/step - loss: 1.1920e-06 - mae: 0.0011\n",
            "Epoch 58/200\n",
            "4/4 [==============================] - 0s 4ms/step - loss: 7.4994e-07 - mae: 8.1210e-04\n",
            "Epoch 59/200\n",
            "4/4 [==============================] - 0s 3ms/step - loss: 3.8937e-07 - mae: 6.0331e-04\n",
            "Epoch 60/200\n",
            "4/4 [==============================] - 0s 4ms/step - loss: 4.2502e-07 - mae: 6.2895e-04\n",
            "Epoch 61/200\n",
            "4/4 [==============================] - 0s 3ms/step - loss: 9.0908e-07 - mae: 9.2986e-04\n",
            "Epoch 62/200\n",
            "4/4 [==============================] - 0s 4ms/step - loss: 3.6927e-07 - mae: 5.9633e-04\n",
            "Epoch 63/200\n",
            "4/4 [==============================] - 0s 3ms/step - loss: 3.1709e-07 - mae: 5.4320e-04\n",
            "Epoch 64/200\n",
            "4/4 [==============================] - 0s 4ms/step - loss: 8.0947e-07 - mae: 8.8183e-04\n",
            "Epoch 65/200\n",
            "4/4 [==============================] - 0s 3ms/step - loss: 2.8850e-07 - mae: 5.0968e-04\n",
            "Epoch 66/200\n",
            "4/4 [==============================] - 0s 3ms/step - loss: 8.9017e-07 - mae: 9.2543e-04\n",
            "Epoch 67/200\n",
            "4/4 [==============================] - 0s 3ms/step - loss: 7.3043e-07 - mae: 8.2848e-04\n",
            "Epoch 68/200\n",
            "4/4 [==============================] - 0s 3ms/step - loss: 4.9499e-07 - mae: 6.8601e-04\n",
            "Epoch 69/200\n",
            "4/4 [==============================] - 0s 3ms/step - loss: 4.5232e-07 - mae: 6.5299e-04\n",
            "Epoch 70/200\n",
            "4/4 [==============================] - 0s 3ms/step - loss: 4.2103e-07 - mae: 6.3152e-04\n",
            "Epoch 71/200\n",
            "4/4 [==============================] - 0s 3ms/step - loss: 1.0644e-06 - mae: 0.0010\n",
            "Epoch 72/200\n",
            "4/4 [==============================] - 0s 3ms/step - loss: 2.5343e-07 - mae: 4.9200e-04\n",
            "Epoch 73/200\n",
            "4/4 [==============================] - 0s 3ms/step - loss: 9.0522e-07 - mae: 9.3187e-04\n",
            "Epoch 74/200\n",
            "4/4 [==============================] - 0s 3ms/step - loss: 7.1817e-07 - mae: 8.2591e-04\n",
            "Epoch 75/200\n",
            "4/4 [==============================] - 0s 3ms/step - loss: 1.3158e-07 - mae: 3.5177e-04\n",
            "Epoch 76/200\n",
            "4/4 [==============================] - 0s 5ms/step - loss: 7.3635e-07 - mae: 8.2581e-04\n",
            "Epoch 77/200\n",
            "4/4 [==============================] - 0s 4ms/step - loss: 7.6705e-07 - mae: 8.5746e-04\n",
            "Epoch 78/200\n",
            "4/4 [==============================] - 0s 3ms/step - loss: 2.4086e-07 - mae: 4.7485e-04\n",
            "Epoch 79/200\n",
            "4/4 [==============================] - 0s 4ms/step - loss: 8.8164e-07 - mae: 9.1724e-04\n",
            "Epoch 80/200\n",
            "4/4 [==============================] - 0s 3ms/step - loss: 4.7631e-07 - mae: 6.7705e-04\n",
            "Epoch 81/200\n",
            "4/4 [==============================] - 0s 6ms/step - loss: 6.1451e-07 - mae: 7.6668e-04\n",
            "Epoch 82/200\n",
            "4/4 [==============================] - 0s 5ms/step - loss: 6.3748e-07 - mae: 7.7663e-04\n",
            "Epoch 83/200\n",
            "4/4 [==============================] - 0s 3ms/step - loss: 6.1972e-07 - mae: 7.5783e-04\n",
            "Epoch 84/200\n",
            "4/4 [==============================] - 0s 3ms/step - loss: 5.6878e-07 - mae: 7.2898e-04\n",
            "Epoch 85/200\n",
            "4/4 [==============================] - 0s 3ms/step - loss: 3.3838e-07 - mae: 5.6845e-04\n",
            "Epoch 86/200\n",
            "4/4 [==============================] - 0s 3ms/step - loss: 7.1150e-07 - mae: 8.2745e-04\n",
            "Epoch 87/200\n",
            "4/4 [==============================] - 0s 3ms/step - loss: 9.5393e-07 - mae: 9.3289e-04\n",
            "Epoch 88/200\n",
            "4/4 [==============================] - 0s 3ms/step - loss: 3.6336e-07 - mae: 5.8590e-04\n",
            "Epoch 89/200\n",
            "4/4 [==============================] - 0s 3ms/step - loss: 4.0621e-07 - mae: 6.2356e-04\n",
            "Epoch 90/200\n",
            "4/4 [==============================] - 0s 3ms/step - loss: 1.0115e-06 - mae: 9.8169e-04\n",
            "Epoch 91/200\n",
            "4/4 [==============================] - 0s 3ms/step - loss: 4.0208e-07 - mae: 6.1510e-04\n",
            "Epoch 92/200\n",
            "4/4 [==============================] - 0s 3ms/step - loss: 4.7220e-07 - mae: 6.7126e-04\n",
            "Epoch 93/200\n",
            "4/4 [==============================] - 0s 3ms/step - loss: 4.0388e-07 - mae: 6.1968e-04\n",
            "Epoch 94/200\n",
            "4/4 [==============================] - 0s 3ms/step - loss: 7.1629e-07 - mae: 8.2756e-04\n",
            "Epoch 95/200\n",
            "4/4 [==============================] - 0s 3ms/step - loss: 5.2444e-07 - mae: 7.0891e-04\n",
            "Epoch 96/200\n",
            "4/4 [==============================] - 0s 3ms/step - loss: 8.8935e-07 - mae: 9.1705e-04\n",
            "Epoch 97/200\n",
            "4/4 [==============================] - 0s 3ms/step - loss: 6.3094e-07 - mae: 7.6755e-04\n",
            "Epoch 98/200\n",
            "4/4 [==============================] - 0s 3ms/step - loss: 2.0316e-07 - mae: 4.4090e-04\n",
            "Epoch 99/200\n",
            "4/4 [==============================] - 0s 3ms/step - loss: 8.1484e-07 - mae: 8.8098e-04\n",
            "Epoch 100/200\n",
            "4/4 [==============================] - 0s 3ms/step - loss: 1.0410e-06 - mae: 9.6997e-04\n",
            "Epoch 101/200\n",
            "4/4 [==============================] - 0s 3ms/step - loss: 8.5823e-08 - mae: 2.7885e-04\n",
            "Epoch 102/200\n",
            "4/4 [==============================] - 0s 4ms/step - loss: 2.9336e-07 - mae: 5.1575e-04\n",
            "Epoch 103/200\n",
            "4/4 [==============================] - 0s 4ms/step - loss: 1.2320e-06 - mae: 0.0011\n",
            "Epoch 104/200\n",
            "4/4 [==============================] - 0s 3ms/step - loss: 5.8046e-07 - mae: 7.3476e-04\n",
            "Epoch 105/200\n",
            "4/4 [==============================] - 0s 3ms/step - loss: 1.5343e-07 - mae: 3.8484e-04\n",
            "Epoch 106/200\n",
            "4/4 [==============================] - 0s 3ms/step - loss: 4.1996e-07 - mae: 6.2725e-04\n",
            "Epoch 107/200\n",
            "4/4 [==============================] - 0s 3ms/step - loss: 1.2002e-06 - mae: 0.0011\n",
            "Epoch 108/200\n",
            "4/4 [==============================] - 0s 3ms/step - loss: 4.9726e-07 - mae: 6.8756e-04\n",
            "Epoch 109/200\n",
            "4/4 [==============================] - 0s 4ms/step - loss: 2.8533e-07 - mae: 5.2251e-04\n",
            "Epoch 110/200\n",
            "4/4 [==============================] - 0s 4ms/step - loss: 4.4973e-07 - mae: 6.4497e-04\n",
            "Epoch 111/200\n",
            "4/4 [==============================] - 0s 7ms/step - loss: 6.0614e-07 - mae: 7.5832e-04\n",
            "Epoch 112/200\n",
            "4/4 [==============================] - 0s 4ms/step - loss: 5.5223e-07 - mae: 7.2991e-04\n",
            "Epoch 113/200\n",
            "4/4 [==============================] - 0s 3ms/step - loss: 9.5450e-07 - mae: 9.5485e-04\n",
            "Epoch 114/200\n",
            "4/4 [==============================] - 0s 3ms/step - loss: 3.0176e-07 - mae: 5.3961e-04\n",
            "Epoch 115/200\n",
            "4/4 [==============================] - 0s 3ms/step - loss: 8.1561e-07 - mae: 8.8143e-04\n",
            "Epoch 116/200\n",
            "4/4 [==============================] - 0s 3ms/step - loss: 2.5383e-07 - mae: 4.9390e-04\n",
            "Epoch 117/200\n",
            "4/4 [==============================] - 0s 3ms/step - loss: 7.5322e-07 - mae: 8.4690e-04\n",
            "Epoch 118/200\n",
            "4/4 [==============================] - 0s 3ms/step - loss: 7.8665e-07 - mae: 8.6039e-04\n",
            "Epoch 119/200\n",
            "4/4 [==============================] - 0s 3ms/step - loss: 1.2874e-07 - mae: 3.5116e-04\n",
            "Epoch 120/200\n",
            "4/4 [==============================] - 0s 3ms/step - loss: 1.0487e-06 - mae: 9.9821e-04\n",
            "Epoch 121/200\n",
            "4/4 [==============================] - 0s 3ms/step - loss: 7.8272e-07 - mae: 8.4703e-04\n",
            "Epoch 122/200\n",
            "4/4 [==============================] - 0s 3ms/step - loss: 1.4632e-07 - mae: 3.7139e-04\n",
            "Epoch 123/200\n",
            "4/4 [==============================] - 0s 4ms/step - loss: 3.4874e-07 - mae: 5.6878e-04\n",
            "Epoch 124/200\n",
            "4/4 [==============================] - 0s 4ms/step - loss: 1.5878e-06 - mae: 0.0012\n",
            "Epoch 125/200\n",
            "4/4 [==============================] - 0s 2ms/step - loss: 1.3074e-07 - mae: 3.4506e-04\n",
            "Epoch 126/200\n",
            "4/4 [==============================] - 0s 3ms/step - loss: 1.7870e-07 - mae: 4.0549e-04\n",
            "Epoch 127/200\n",
            "4/4 [==============================] - 0s 4ms/step - loss: 1.1506e-06 - mae: 0.0010\n",
            "Epoch 128/200\n",
            "4/4 [==============================] - 0s 5ms/step - loss: 5.8873e-07 - mae: 7.4500e-04\n",
            "Epoch 129/200\n",
            "4/4 [==============================] - 0s 5ms/step - loss: 1.3828e-07 - mae: 3.6354e-04\n",
            "Epoch 130/200\n",
            "4/4 [==============================] - 0s 3ms/step - loss: 6.5127e-07 - mae: 7.8220e-04\n",
            "Epoch 131/200\n",
            "4/4 [==============================] - 0s 3ms/step - loss: 9.4661e-07 - mae: 9.4057e-04\n",
            "Epoch 132/200\n",
            "4/4 [==============================] - 0s 3ms/step - loss: 2.7578e-07 - mae: 5.1453e-04\n",
            "Epoch 133/200\n",
            "4/4 [==============================] - 0s 5ms/step - loss: 1.6000e-07 - mae: 3.8163e-04\n",
            "Epoch 134/200\n",
            "4/4 [==============================] - 0s 3ms/step - loss: 1.3736e-06 - mae: 0.0011\n",
            "Epoch 135/200\n",
            "4/4 [==============================] - 0s 4ms/step - loss: 2.4366e-07 - mae: 4.8150e-04\n",
            "Epoch 136/200\n",
            "4/4 [==============================] - 0s 5ms/step - loss: 8.4298e-08 - mae: 2.7878e-04\n",
            "Epoch 137/200\n",
            "4/4 [==============================] - 0s 3ms/step - loss: 1.1766e-06 - mae: 0.0010\n",
            "Epoch 138/200\n",
            "4/4 [==============================] - 0s 3ms/step - loss: 6.0773e-07 - mae: 7.4903e-04\n",
            "Epoch 139/200\n",
            "4/4 [==============================] - 0s 3ms/step - loss: 4.3957e-07 - mae: 6.5015e-04\n",
            "Epoch 140/200\n",
            "4/4 [==============================] - 0s 3ms/step - loss: 3.1947e-07 - mae: 5.4992e-04\n",
            "Epoch 141/200\n",
            "4/4 [==============================] - 0s 2ms/step - loss: 8.3835e-07 - mae: 8.9860e-04\n",
            "Epoch 142/200\n",
            "4/4 [==============================] - 0s 3ms/step - loss: 9.8518e-07 - mae: 9.4861e-04\n",
            "Epoch 143/200\n",
            "4/4 [==============================] - 0s 3ms/step - loss: 4.8124e-08 - mae: 2.1229e-04\n",
            "Epoch 144/200\n",
            "4/4 [==============================] - 0s 3ms/step - loss: 1.4605e-07 - mae: 3.5741e-04\n",
            "Epoch 145/200\n",
            "4/4 [==============================] - 0s 3ms/step - loss: 1.2230e-06 - mae: 0.0011\n",
            "Epoch 146/200\n",
            "4/4 [==============================] - 0s 3ms/step - loss: 8.4378e-07 - mae: 8.3950e-04\n",
            "Epoch 147/200\n",
            "4/4 [==============================] - 0s 3ms/step - loss: 4.2029e-08 - mae: 2.0102e-04\n",
            "Epoch 148/200\n",
            "4/4 [==============================] - 0s 2ms/step - loss: 9.7997e-08 - mae: 2.9522e-04\n",
            "Epoch 149/200\n",
            "4/4 [==============================] - 0s 2ms/step - loss: 1.6340e-06 - mae: 0.0012\n",
            "Epoch 150/200\n",
            "4/4 [==============================] - 0s 3ms/step - loss: 1.7379e-07 - mae: 3.6747e-04\n",
            "Epoch 151/200\n",
            "4/4 [==============================] - 0s 3ms/step - loss: 3.6015e-07 - mae: 5.7739e-04\n",
            "Epoch 152/200\n",
            "4/4 [==============================] - 0s 3ms/step - loss: 1.2213e-06 - mae: 0.0011\n",
            "Epoch 153/200\n",
            "4/4 [==============================] - 0s 4ms/step - loss: 2.3356e-07 - mae: 4.7141e-04\n",
            "Epoch 154/200\n",
            "4/4 [==============================] - 0s 4ms/step - loss: 3.2256e-07 - mae: 5.5318e-04\n",
            "Epoch 155/200\n",
            "4/4 [==============================] - 0s 3ms/step - loss: 1.2188e-06 - mae: 0.0011\n",
            "Epoch 156/200\n",
            "4/4 [==============================] - 0s 3ms/step - loss: 3.9064e-08 - mae: 1.8615e-04\n",
            "Epoch 157/200\n",
            "4/4 [==============================] - 0s 5ms/step - loss: 1.6455e-07 - mae: 3.8037e-04\n",
            "Epoch 158/200\n",
            "4/4 [==============================] - 0s 3ms/step - loss: 1.6766e-06 - mae: 0.0013\n",
            "Epoch 159/200\n",
            "4/4 [==============================] - 0s 3ms/step - loss: 1.8429e-07 - mae: 4.1609e-04\n",
            "Epoch 160/200\n",
            "4/4 [==============================] - 0s 3ms/step - loss: 2.3263e-07 - mae: 4.7088e-04\n",
            "Epoch 161/200\n",
            "4/4 [==============================] - 0s 4ms/step - loss: 9.6769e-07 - mae: 9.6466e-04\n",
            "Epoch 162/200\n",
            "4/4 [==============================] - 0s 2ms/step - loss: 9.2505e-07 - mae: 9.0587e-04\n",
            "Epoch 163/200\n",
            "4/4 [==============================] - 0s 3ms/step - loss: 1.5087e-07 - mae: 3.6644e-04\n",
            "Epoch 164/200\n",
            "4/4 [==============================] - 0s 2ms/step - loss: 3.5812e-07 - mae: 5.7365e-04\n",
            "Epoch 165/200\n",
            "4/4 [==============================] - 0s 4ms/step - loss: 1.1435e-06 - mae: 0.0010\n",
            "Epoch 166/200\n",
            "4/4 [==============================] - 0s 3ms/step - loss: 5.1471e-07 - mae: 6.8450e-04\n",
            "Epoch 167/200\n",
            "4/4 [==============================] - 0s 4ms/step - loss: 1.5538e-07 - mae: 3.8515e-04\n",
            "Epoch 168/200\n",
            "4/4 [==============================] - 0s 3ms/step - loss: 7.7080e-07 - mae: 8.5179e-04\n",
            "Epoch 169/200\n",
            "4/4 [==============================] - 0s 3ms/step - loss: 7.4086e-07 - mae: 8.3750e-04\n",
            "Epoch 170/200\n",
            "4/4 [==============================] - 0s 3ms/step - loss: 1.0017e-06 - mae: 9.5505e-04\n",
            "Epoch 171/200\n",
            "4/4 [==============================] - 0s 3ms/step - loss: 2.6427e-08 - mae: 1.5978e-04\n",
            "Epoch 172/200\n",
            "4/4 [==============================] - 0s 3ms/step - loss: 6.7012e-08 - mae: 2.4596e-04\n",
            "Epoch 173/200\n",
            "4/4 [==============================] - 0s 3ms/step - loss: 1.1273e-06 - mae: 0.0010\n",
            "Epoch 174/200\n",
            "4/4 [==============================] - 0s 3ms/step - loss: 6.4540e-07 - mae: 7.8914e-04\n",
            "Epoch 175/200\n",
            "4/4 [==============================] - 0s 6ms/step - loss: 3.3680e-07 - mae: 5.6933e-04\n",
            "Epoch 176/200\n",
            "4/4 [==============================] - 0s 3ms/step - loss: 8.5350e-07 - mae: 9.0515e-04\n",
            "Epoch 177/200\n",
            "4/4 [==============================] - 0s 3ms/step - loss: 7.3033e-07 - mae: 8.1760e-04\n",
            "Epoch 178/200\n",
            "4/4 [==============================] - 0s 3ms/step - loss: 1.3220e-07 - mae: 3.5665e-04\n",
            "Epoch 179/200\n",
            "4/4 [==============================] - 0s 3ms/step - loss: 6.7438e-07 - mae: 7.9489e-04\n",
            "Epoch 180/200\n",
            "4/4 [==============================] - 0s 3ms/step - loss: 1.1258e-06 - mae: 0.0010\n",
            "Epoch 181/200\n",
            "4/4 [==============================] - 0s 3ms/step - loss: 2.1369e-07 - mae: 4.4306e-04\n",
            "Epoch 182/200\n",
            "4/4 [==============================] - 0s 3ms/step - loss: 4.8798e-07 - mae: 6.7544e-04\n",
            "Epoch 183/200\n",
            "4/4 [==============================] - 0s 3ms/step - loss: 8.2487e-07 - mae: 8.8123e-04\n",
            "Epoch 184/200\n",
            "4/4 [==============================] - 0s 7ms/step - loss: 7.2926e-07 - mae: 7.9938e-04\n",
            "Epoch 185/200\n",
            "4/4 [==============================] - 0s 4ms/step - loss: 3.2213e-07 - mae: 5.4267e-04\n",
            "Epoch 186/200\n",
            "4/4 [==============================] - 0s 3ms/step - loss: 3.7857e-07 - mae: 5.9530e-04\n",
            "Epoch 187/200\n",
            "4/4 [==============================] - 0s 3ms/step - loss: 1.0248e-06 - mae: 9.9276e-04\n",
            "Epoch 188/200\n",
            "4/4 [==============================] - 0s 4ms/step - loss: 3.6198e-07 - mae: 5.9018e-04\n",
            "Epoch 189/200\n",
            "4/4 [==============================] - 0s 4ms/step - loss: 5.3893e-07 - mae: 7.1910e-04\n",
            "Epoch 190/200\n",
            "4/4 [==============================] - 0s 4ms/step - loss: 1.0237e-06 - mae: 9.6631e-04\n",
            "Epoch 191/200\n",
            "4/4 [==============================] - 0s 5ms/step - loss: 2.1329e-07 - mae: 4.3426e-04\n",
            "Epoch 192/200\n",
            "4/4 [==============================] - 0s 3ms/step - loss: 5.0926e-07 - mae: 6.9025e-04\n",
            "Epoch 193/200\n",
            "4/4 [==============================] - 0s 3ms/step - loss: 6.7286e-07 - mae: 8.0251e-04\n",
            "Epoch 194/200\n",
            "4/4 [==============================] - 0s 3ms/step - loss: 9.3907e-07 - mae: 9.3705e-04\n",
            "Epoch 195/200\n",
            "4/4 [==============================] - 0s 3ms/step - loss: 3.5141e-07 - mae: 5.6820e-04\n",
            "Epoch 196/200\n",
            "4/4 [==============================] - 0s 3ms/step - loss: 3.0372e-07 - mae: 5.2223e-04\n",
            "Epoch 197/200\n",
            "4/4 [==============================] - 0s 2ms/step - loss: 1.1728e-06 - mae: 0.0011\n",
            "Epoch 198/200\n",
            "4/4 [==============================] - 0s 3ms/step - loss: 3.8862e-07 - mae: 6.0613e-04\n",
            "Epoch 199/200\n",
            "4/4 [==============================] - 0s 3ms/step - loss: 2.8853e-07 - mae: 5.2020e-04\n",
            "Epoch 200/200\n",
            "4/4 [==============================] - 0s 3ms/step - loss: 9.6527e-07 - mae: 9.6076e-04\n"
          ],
          "name": "stdout"
        }
      ]
    },
    {
      "cell_type": "code",
      "metadata": {
        "colab": {
          "base_uri": "https://localhost:8080/",
          "height": 276
        },
        "id": "1DjcOaEcwYgY",
        "outputId": "6963e1d6-4a57-4601-981d-20d8baadcfce"
      },
      "source": [
        "plt.plot(fit_hist.history['loss'])\n",
        "plt.show()"
      ],
      "execution_count": null,
      "outputs": [
        {
          "output_type": "display_data",
          "data": {
            "image/png": "[encoded data removed]",
            "text/plain": [
              "<Figure size 432x288 with 1 Axes>"
            ]
          },
          "metadata": {
            "tags": [],
            "needs_background": "light"
          }
        }
      ]
    },
    {
      "cell_type": "code",
      "metadata": {
        "colab": {
          "base_uri": "https://localhost:8080/"
        },
        "id": "OV38B8A1xGlg",
        "outputId": "406efe12-45e0-43e8-b8de-f8694d8670a5"
      },
      "source": [
        "print(model.predict([1]))"
      ],
      "execution_count": null,
      "outputs": [
        {
          "output_type": "stream",
          "text": [
            "[[2.1211529]]\n"
          ],
          "name": "stdout"
        }
      ]
    },
    {
      "cell_type": "code",
      "metadata": {
        "id": "6veqasEGzMpf"
      },
      "source": [
        "model.save(\"/content/after_learning.h5\")"
      ],
      "execution_count": null,
      "outputs": []
    },
    {
      "cell_type": "code",
      "metadata": {
        "colab": {
          "base_uri": "https://localhost:8080/"
        },
        "id": "7Nc8P54pzS8H",
        "outputId": "b4dc9a34-b339-45f7-b7dc-93e05adc3a05"
      },
      "source": [
        "noise = np.array(np.random.normal(0, 0.1, 100))\n",
        "print(noise)"
      ],
      "execution_count": null,
      "outputs": [
        {
          "output_type": "stream",
          "text": [
            "[ 0.21822076  0.0396684   0.08144412 -0.00975133  0.08656326  0.04743965\n",
            "  0.09484752 -0.20030546  0.17035252 -0.01612322 -0.04671054 -0.11076259\n",
            " -0.07688831 -0.14166812  0.01797049 -0.08988595  0.04408996  0.01091651\n",
            "  0.00373703 -0.0461706   0.04122978 -0.06930904  0.02792408 -0.15128418\n",
            "  0.13310054  0.04489305  0.18489155  0.04510651 -0.15707641  0.08733541\n",
            "  0.04836534  0.03115062  0.12120609 -0.00322894  0.08200781  0.11043145\n",
            "  0.01799736 -0.10234944  0.22255055 -0.13911655  0.02661624  0.10475836\n",
            "  0.13437698  0.13452103  0.11616883 -0.06330018 -0.10750461  0.01116551\n",
            "  0.19043103 -0.04372778 -0.1379176  -0.01395454 -0.25213936  0.10178928\n",
            " -0.04519039  0.22597069  0.02266998 -0.04341566 -0.0166042   0.00860121\n",
            "  0.08686993 -0.22395604  0.08882113 -0.01471485 -0.07813533  0.03370728\n",
            "  0.12124603 -0.18706926 -0.11178843 -0.10063549  0.02115197 -0.02037761\n",
            " -0.03199572 -0.05109585 -0.0805701  -0.23664755  0.05599048  0.1982546\n",
            " -0.10116943  0.05724665  0.09099732  0.10607555  0.02795298 -0.24017455\n",
            " -0.04297549 -0.06441902  0.01410659  0.02744388  0.00915585 -0.05078235\n",
            " -0.11275659  0.07486722 -0.02099349 -0.16956336  0.07271988 -0.12307976\n",
            "  0.11367012 -0.03356453  0.11359625 -0.07815164]\n"
          ],
          "name": "stdout"
        }
      ]
    },
    {
      "cell_type": "code",
      "metadata": {
        "id": "MVVbA0Lr2TXa"
      },
      "source": [
        "nosised_scaled_data_F = scaled_data_F + noise"
      ],
      "execution_count": null,
      "outputs": []
    },
    {
      "cell_type": "code",
      "metadata": {
        "colab": {
          "base_uri": "https://localhost:8080/",
          "height": 265
        },
        "id": "8x-O7p9M2cPC",
        "outputId": "44f16212-9e08-43e6-d577-ca6a19494f79"
      },
      "source": [
        "plt.scatter (x = scaled_data_C, y = scaled_data_F)\n",
        "plt.show()"
      ],
      "execution_count": null,
      "outputs": [
        {
          "output_type": "display_data",
          "data": {
            "image/png": "[encoded data removed]",
            "text/plain": [
              "<Figure size 432x288 with 1 Axes>"
            ]
          },
          "metadata": {
            "tags": [],
            "needs_background": "light"
          }
        }
      ]
    },
    {
      "cell_type": "code",
      "metadata": {
        "colab": {
          "base_uri": "https://localhost:8080/",
          "height": 265
        },
        "id": "GW_CRjDj2nL5",
        "outputId": "9e90526c-4b78-43ff-97b7-006e33b7948e"
      },
      "source": [
        "plt.scatter (x = scaled_data_C, y = nosised_scaled_data_F)\n",
        "plt.show()"
      ],
      "execution_count": null,
      "outputs": [
        {
          "output_type": "display_data",
          "data": {
            "image/png": "[encoded data removed]",
            "text/plain": [
              "<Figure size 432x288 with 1 Axes>"
            ]
          },
          "metadata": {
            "tags": [],
            "needs_background": "light"
          }
        }
      ]
    },
    {
      "cell_type": "code",
      "metadata": {
        "colab": {
          "base_uri": "https://localhost:8080/"
        },
        "id": "LG4IPtnZ2_5J",
        "outputId": "bb7393ba-4bfb-4043-d5df-e4e47c456e65"
      },
      "source": [
        "model2 = Sequential()\n",
        "model2.add(Dense(1, input_dim = 1))\n",
        "\n",
        "model2.compile(loss = 'mse', optimizer = 'rmsprop', metrics = ['mae'])\n",
        "print(model.summary())"
      ],
      "execution_count": null,
      "outputs": [
        {
          "output_type": "stream",
          "text": [
            "Model: \"sequential_1\"\n",
            "_________________________________________________________________\n",
            "Layer (type)                 Output Shape              Param #   \n",
            "=================================================================\n",
            "dense_1 (Dense)              (None, 1)                 2         \n",
            "=================================================================\n",
            "Total params: 2\n",
            "Trainable params: 2\n",
            "Non-trainable params: 0\n",
            "_________________________________________________________________\n",
            "None\n"
          ],
          "name": "stdout"
        }
      ]
    },
    {
      "cell_type": "code",
      "metadata": {
        "colab": {
          "base_uri": "https://localhost:8080/"
        },
        "id": "jp6fPTrV3N7S",
        "outputId": "c64b5421-a262-437c-8363-8610a1fe3f32"
      },
      "source": [
        "print(model2.predict([0.01]))"
      ],
      "execution_count": null,
      "outputs": [
        {
          "output_type": "stream",
          "text": [
            "[[0.00827972]]\n"
          ],
          "name": "stdout"
        }
      ]
    },
    {
      "cell_type": "code",
      "metadata": {
        "id": "MkEawRHz3TGa"
      },
      "source": [
        ""
      ],
      "execution_count": null,
      "outputs": []
    }
  ]
}