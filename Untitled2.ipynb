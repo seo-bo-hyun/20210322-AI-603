{
  "nbformat": 4,
  "nbformat_minor": 0,
  "metadata": {
    "colab": {
      "name": "Untitled2.ipynb",
      "provenance": [],
      "authorship_tag": "ABX9TyNoXmXu/5FQ6QcNYD3CWLGf",
      "include_colab_link": true
    },
    "kernelspec": {
      "name": "python3",
      "display_name": "Python 3"
    },
    "language_info": {
      "name": "python"
    }
  },
  "cells": [
    {
      "cell_type": "markdown",
      "metadata": {
        "id": "view-in-github",
        "colab_type": "text"
      },
      "source": [
        "<a href=\"https://colab.research.google.com/github/seo-bo-hyun/20210322-AI-603/blob/main/Untitled2.ipynb\" target=\"_parent\"><img src=\"https://colab.research.google.com/assets/colab-badge.svg\" alt=\"Open In Colab\"/></a>"
      ]
    },
    {
      "cell_type": "code",
      "metadata": {
        "id": "Fjzgf6y98DZ6"
      },
      "source": [
        "import numpy as np\n",
        "import pandas as pd\n",
        "import tensorflow as tf\n",
        "import matplotlib.pyplot as plt\n",
        "from tensorflow.keras.models import Sequential\n",
        "from tensorflow.keras.layers import Dense\n",
        "from tensorflow.keras.optimizers import Adam\n",
        "from keras.utils import np_utils\n",
        "from keras import datasets"
      ],
      "execution_count": null,
      "outputs": []
    },
    {
      "cell_type": "code",
      "metadata": {
        "id": "Ixs0tRKB8swj"
      },
      "source": [
        "def DNN_ModelSequential(n_input, n_hidden, n_hidden2, n_out):\n",
        "  model = Sequential()\n",
        "  model.add(Dense(n_hidden, input_shape = (n_input,), activation = 'relu'))\n",
        "  model.add(Dense(n_hidden2, activation = 'relu'))\n",
        "  model.add(Dense(n_out, activation = 'softmax'))\n",
        "\n",
        "  opt = Adam(lr = 0.01)\n",
        "  model.compile(opt, loss = 'categorical_crossentropy', metrics = ['accuracy'])\n",
        "  return model"
      ],
      "execution_count": null,
      "outputs": []
    },
    {
      "cell_type": "code",
      "metadata": {
        "colab": {
          "base_uri": "https://localhost:8080/"
        },
        "id": "weDMI7G19eOl",
        "outputId": "601b665b-fec5-4255-b947-8c460eaca194"
      },
      "source": [
        "(X_train, Y_train), (X_test, Y_test) = tf.keras.datasets.mnist.load_data()"
      ],
      "execution_count": null,
      "outputs": [
        {
          "output_type": "stream",
          "text": [
            "Downloading data from https://storage.googleapis.com/tensorflow/tf-keras-datasets/mnist.npz\n",
            "11493376/11490434 [==============================] - 0s 0us/step\n"
          ],
          "name": "stdout"
        }
      ]
    },
    {
      "cell_type": "code",
      "metadata": {
        "colab": {
          "base_uri": "https://localhost:8080/"
        },
        "id": "mKRC1eMd9w6z",
        "outputId": "1b53ba51-ff61-4573-a62b-5d3af13e6ac5"
      },
      "source": [
        "print(X_train.shape, Y_train.shape)\n",
        "print(X_test.shape, Y_test.shape)"
      ],
      "execution_count": null,
      "outputs": [
        {
          "output_type": "stream",
          "text": [
            "(60000, 28, 28) (60000,)\n",
            "(10000, 28, 28) (10000,)\n"
          ],
          "name": "stdout"
        }
      ]
    },
    {
      "cell_type": "code",
      "metadata": {
        "colab": {
          "base_uri": "https://localhost:8080/",
          "height": 1000
        },
        "id": "i-ZidURn-AO0",
        "outputId": "36bf0167-b0bb-4f5c-ea66-9ecfc7e5b5a1"
      },
      "source": [
        "mySample = np.random.randint(60000)\n",
        "plt.imshow(X_train[mySample])\n",
        "plt.show()\n",
        "print(X_train[mySample])\n",
        "print(Y_train[mySample])"
      ],
      "execution_count": null,
      "outputs": [
        {
          "output_type": "display_data",
          "data": {
            "image/png": "[encoded data removed]",
            "text/plain": [
              "<Figure size 432x288 with 1 Axes>"
            ]
          },
          "metadata": {
            "tags": [],
            "needs_background": "light"
          }
        },
        {
          "output_type": "stream",
          "text": [
            "[[  0   0   0   0   0   0   0   0   0   0   0   0   0   0   0   0   0   0\n",
            "    0   0   0   0   0   0   0   0   0   0]\n",
            " [  0   0   0   0   0   0   0   0   0   0   0   0   0   0   0   0   0   0\n",
            "    0   0   0   0   0   0   0   0   0   0]\n",
            " [  0   0   0   0   0   0   0   0   0   0   0   0   0   0   0   0   0   0\n",
            "    0   0   0   0   0   0   0   0   0   0]\n",
            " [  0   0   0   0   0   0   0   0   0   0   0   0   0   0   0   0   0   0\n",
            "    0   0   0   0   0   0   0   0   0   0]\n",
            " [  0   0   0   0   0   0   0   0   0   0   0   0   0   0   0   0   0   0\n",
            "    0   0   0   0   0   0   0   0   0   0]\n",
            " [  0   0   0   0   0   0   0   0   0   0   0   0   0   0   0  74 158 243\n",
            "  254 254  61   0   0   0   0   0   0   0]\n",
            " [  0   0   0   0   0   0   0   0   0   0   0   0  49 128 243 253 254 254\n",
            "  254 254  61   0   0   0   0   0   0   0]\n",
            " [  0   0   0   0   0   0   0   0   0   0  11 152 248 255 254 196  96  17\n",
            "  131 254  61   0   0   0   0   0   0   0]\n",
            " [  0   0   0   0   0   0   0   0   0  33 209 254 235 114  29   2   0   0\n",
            "  202 248  49   0   0   0   0   0   0   0]\n",
            " [  0   0   0   0   0   0   0   0  46 235 254 216  23   0   0   0   0  99\n",
            "  248 166   0   0   0   0   0   0   0   0]\n",
            " [  0   0   0   0   0   0   0  22 216 254 184  12   0   0   0   0  50 236\n",
            "  249  45   0   0   0   0   0   0   0   0]\n",
            " [  0   0   0   0   0   0   0  25 182 209  13   0   0   0   0  46 240 249\n",
            "  105   0   0   0   0   0   0   0   0   0]\n",
            " [  0   0   0   0   0   0   0   0   0   0   0   0   0   6 128 250 254 213\n",
            "    3   0   0   0   0   0   0   0   0   0]\n",
            " [  0   0   0   0   0   0   0   0   0   0   0   0   0  80 254 254 254 254\n",
            "  141   2   0   0   0   0   0   0   0   0]\n",
            " [  0   0   0   0   0   0   0   0   0   0   0   0   0  25 163 166 166 242\n",
            "  254  83   0   0   0   0   0   0   0   0]\n",
            " [  0   0   0   0   0   0   0   0   0   0   0   0   0   0   0   0   0  16\n",
            "  226 198   0   0   0   0   0   0   0   0]\n",
            " [  0   0   0   0   0   0   0   0   0   0   0   0   0   0   0   0   0   0\n",
            "  211 244  38   0   0   0   0   0   0   0]\n",
            " [  0   0   0   0   0   0   0   0   0   0   0   0   0   0   0   0   0   0\n",
            "  211 254  61   0   0   0   0   0   0   0]\n",
            " [  0   0   0   0   0   0   0   0   0   0   0   0   0   0   0   0   0   0\n",
            "  211 248  49   0   0   0   0   0   0   0]\n",
            " [  0   0   0   0   0  11  54  12   0   0   0   0   0   0   0   0   0   8\n",
            "  218 227   0   0   0   0   0   0   0   0]\n",
            " [  0   0   0   0   0 134 201   0   0   0   0   0   0   0   0   0   0 129\n",
            "  254 142   0   0   0   0   0   0   0   0]\n",
            " [  0   0   0   0   0 149 206   4   0   0   0   0   0   0   0   0  61 247\n",
            "  250  47   0   0   0   0   0   0   0   0]\n",
            " [  0   0   0   0   0 109 252 201 121  36   5   0   0   6  18 122 248 251\n",
            "  113   0   0   0   0   0   0   0   0   0]\n",
            " [  0   0   0   0   0   0  81 203 252 254 201 184 184 206 254 254 246 112\n",
            "    0   0   0   0   0   0   0   0   0   0]\n",
            " [  0   0   0   0   0   0   0   0  65 127 254 254 254 254 229 144   8   0\n",
            "    0   0   0   0   0   0   0   0   0   0]\n",
            " [  0   0   0   0   0   0   0   0   0   0   0   0   0   0   0   0   0   0\n",
            "    0   0   0   0   0   0   0   0   0   0]\n",
            " [  0   0   0   0   0   0   0   0   0   0   0   0   0   0   0   0   0   0\n",
            "    0   0   0   0   0   0   0   0   0   0]\n",
            " [  0   0   0   0   0   0   0   0   0   0   0   0   0   0   0   0   0   0\n",
            "    0   0   0   0   0   0   0   0   0   0]]\n",
            "3\n"
          ],
          "name": "stdout"
        }
      ]
    },
    {
      "cell_type": "code",
      "metadata": {
        "id": "q2hBvIGL-aOr"
      },
      "source": [
        "def Data_func():\n",
        "  (X_train, Y_train), (X_test, Y_test) = tf.keras.datasets.mnist.load_data()\n",
        "  "
      ],
      "execution_count": null,
      "outputs": []
    }
  ]
}