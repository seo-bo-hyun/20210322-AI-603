{
  "nbformat": 4,
  "nbformat_minor": 0,
  "metadata": {
    "colab": {
      "name": "Mnist_classfication_ipynb의_사본.ipynb",
      "provenance": [],
      "collapsed_sections": [],
      "include_colab_link": true
    },
    "kernelspec": {
      "name": "python3",
      "display_name": "Python 3"
    }
  },
  "cells": [
    {
      "cell_type": "markdown",
      "metadata": {
        "id": "view-in-github",
        "colab_type": "text"
      },
      "source": [
        "<a href=\"https://colab.research.google.com/github/seo-bo-hyun/20210322-AI-603/blob/main/Mnist_classfication_ipynb%EC%9D%98_%EC%82%AC%EB%B3%B8.ipynb\" target=\"_parent\"><img src=\"https://colab.research.google.com/assets/colab-badge.svg\" alt=\"Open In Colab\"/></a>"
      ]
    },
    {
      "cell_type": "code",
      "metadata": {
        "id": "Ig9Q_cQ_SD1U"
      },
      "source": [
        "import numpy as np\n",
        "import pandas as pd\n",
        "import tensorflow as tf\n",
        "import matplotlib.pyplot as plt\n",
        "from tensorflow.keras.models import Sequential\n",
        "from tensorflow.keras.layers import Dense\n",
        "from tensorflow.keras.optimizers import Adam\n",
        "from keras.utils import np_utils\n",
        "from keras import datasets"
      ],
      "execution_count": null,
      "outputs": []
    },
    {
      "cell_type": "code",
      "metadata": {
        "id": "BrbtxGqAS8OQ"
      },
      "source": [
        "def DNN_ModelSequential(n_input, n_hidden, n_hidden2, n_out):\n",
        "  model = Sequential()\n",
        "  model.add(Dense(n_hidden, input_shape=(n_input,), activation='relu'))\n",
        "  model.add(Dense(n_hidden2, activation='relu'))\n",
        "  model.add(Dense(n_out, activation='softmax')) \n",
        "\n",
        "  opt = Adam(lr=0.01)\n",
        "  model.compile(opt, loss='categorical_crossentropy', metrics=['accuracy'])\n",
        "  return model"
      ],
      "execution_count": null,
      "outputs": []
    },
    {
      "cell_type": "code",
      "metadata": {
        "id": "2yX-DWSICeUF"
      },
      "source": [
        "label = ['T-shirt', 'trouser', 'pullover', 'dress', 'coat', 'sandal', 'shirt', 'sneaker', 'bag', 'ankle boot']"
      ],
      "execution_count": null,
      "outputs": []
    },
    {
      "cell_type": "code",
      "metadata": {
        "id": "T771B8i5DUjg"
      },
      "source": [
        "from google.colab import drive\n",
        "drive.mount('/content/drive')"
      ],
      "execution_count": null,
      "outputs": []
    },
    {
      "cell_type": "code",
      "metadata": {
        "id": "-Bru-XWiUAb-",
        "colab": {
          "base_uri": "https://localhost:8080/"
        },
        "outputId": "e260ac8f-679b-417b-8dbe-19dc73e498d6"
      },
      "source": [
        "(X_train, Y_train), (X_test, Y_test) = tf.keras.datasets.mnist.load_data()"
      ],
      "execution_count": null,
      "outputs": [
        {
          "output_type": "stream",
          "text": [
            "Downloading data from https://storage.googleapis.com/tensorflow/tf-keras-datasets/mnist.npz\n",
            "11493376/11490434 [==============================] - 0s 0us/step\n"
          ],
          "name": "stdout"
        }
      ]
    },
    {
      "cell_type": "code",
      "metadata": {
        "id": "D3e1pjKVUXIR",
        "colab": {
          "base_uri": "https://localhost:8080/"
        },
        "outputId": "f8be6d49-dc70-4f96-9e1a-b7db6a21ab24"
      },
      "source": [
        "print(X_train.shape, Y_train.shape)\n",
        "print(X_test.shape, Y_test.shape)"
      ],
      "execution_count": null,
      "outputs": [
        {
          "output_type": "stream",
          "text": [
            "(60000, 28, 28) (60000,)\n",
            "(10000, 28, 28) (10000,)\n"
          ],
          "name": "stdout"
        }
      ]
    },
    {
      "cell_type": "code",
      "metadata": {
        "id": "T85XBdXWUo6U",
        "colab": {
          "base_uri": "https://localhost:8080/",
          "height": 1000
        },
        "outputId": "78d7c0da-2fe9-4433-ecda-d18903421257"
      },
      "source": [
        "mySample = np.random.randint(60000)\n",
        "plt.imshow(X_train[mySample])\n",
        "plt.show()\n",
        "print(Y_train[mySample])\n",
        "print(X_train[mySample])"
      ],
      "execution_count": null,
      "outputs": [
        {
          "output_type": "display_data",
          "data": {
            "image/png": "[encoded data removed]",
            "text/plain": [
              "<Figure size 432x288 with 1 Axes>"
            ]
          },
          "metadata": {
            "tags": [],
            "needs_background": "light"
          }
        },
        {
          "output_type": "stream",
          "text": [
            "8\n",
            "[[  0   0   0   0   0   0   0   0   0   0   0   0   0   0   0   0   0   0\n",
            "    0   0   0   0   0   0   0   0   0   0]\n",
            " [  0   0   0   0   0   0   0   0   0   0   0   0   0   0   0   0   0   0\n",
            "    0   0   0   0   0   0   0   0   0   0]\n",
            " [  0   0   0   0   0   0   0   0   0   0   0   0   0   0   0   0   0   0\n",
            "    0   0   0   0   0   0   0   0   0   0]\n",
            " [  0   0   0   0   0   0   0   0   0   0   0   0   0   0   0   0   0   0\n",
            "    0   0   0   0   0   0   0   0   0   0]\n",
            " [  0   0   0   0   0   0   0   0   0   0   0   0   0   0   6  19 133 209\n",
            "  255 254 220  35   2   0   0   0   0   0]\n",
            " [  0   0   0   0   0   0   0   0   0   0   0   0  21  77 197 254 253 253\n",
            "  253 253 253 253  36   0   0   0   0   0]\n",
            " [  0   0   0   0   0   0   0   0   7  28  11  78 240 253 253 254 253 236\n",
            "  253 253 253 241  31   0   0   0   0   0]\n",
            " [  0   0   0   0   0   0   0   0  72 233 194 253 253 232 205  85  84  69\n",
            "  253 253 239  79   0   0   0   0   0   0]\n",
            " [  0   0   0   0   0   0   0   0 169 253 253 253 155  41   0   0   6 146\n",
            "  253 253 180   0   0   0   0   0   0   0]\n",
            " [  0   0   0   0   0   0   0   0  64 233 253 253 156   7   0   4 148 253\n",
            "  253 201  71   0   0   0   0   0   0   0]\n",
            " [  0   0   0   0   0   0   0   0   0  64 233 253 253 158  85 209 253 253\n",
            "  237  48   0   0   0   0   0   0   0   0]\n",
            " [  0   0   0   0   0   0   0   0   0   0  62 189 253 253 253 254 253 239\n",
            "   69   0   0   0   0   0   0   0   0   0]\n",
            " [  0   0   0   0   0   0   0   0   0   0   0   8 169 253 253 254 253 217\n",
            "    0   0   0   0   0   0   0   0   0   0]\n",
            " [  0   0   0   0   0   0   0   0   0   0   0  41 230 253 253 254 253 252\n",
            "  219  93   0   0   0   0   0   0   0   0]\n",
            " [  0   0   0   0   0   0   0   0   0   0  80 254 254 254 243 123 191 244\n",
            "  255 254 185   9   0   0   0   0   0   0]\n",
            " [  0   0   0   0   0   0   0   0   5 112 228 253 253 179   5   0   0  16\n",
            "  189 246 253 217  21   0   0   0   0   0]\n",
            " [  0   0   0   0   0   0   0   6 136 253 253 253 175   9   0   0   0   0\n",
            "    0  98 245 253 125   4   0   0   0   0]\n",
            " [  0   0   0   0   0   0   0  37 253 253 253 173  12   0   0   0   0   0\n",
            "    0   0 113 253 253  24   0   0   0   0]\n",
            " [  0   0   0   0   0   0   0 124 253 253 201  14   0   0   0   0   0   0\n",
            "    0  15 174 253 253  24   0   0   0   0]\n",
            " [  0   0   0   0   0   0  54 231 253 236  71   0   0   0   0   0   0   0\n",
            "   14 174 253 253 144   6   0   0   0   0]\n",
            " [  0   0   0   0   0   0 145 253 253 193   0   0   0   0   0   0  49 103\n",
            "  215 253 253 225  24   0   0   0   0   0]\n",
            " [  0   0   0   0   0   0  42 253 253 245 218 218 114  98 155 219 238 253\n",
            "  253 253 144  24   0   0   0   0   0   0]\n",
            " [  0   0   0   0   0   0   3 115 253 253 253 253 253 253 253 254 253 253\n",
            "  180  58   6   0   0   0   0   0   0   0]\n",
            " [  0   0   0   0   0   0   0   2  93 161 253 253 253 253 253 191 132  57\n",
            "    4   0   0   0   0   0   0   0   0   0]\n",
            " [  0   0   0   0   0   0   0   0   0   0   0   0   0   0   0   0   0   0\n",
            "    0   0   0   0   0   0   0   0   0   0]\n",
            " [  0   0   0   0   0   0   0   0   0   0   0   0   0   0   0   0   0   0\n",
            "    0   0   0   0   0   0   0   0   0   0]\n",
            " [  0   0   0   0   0   0   0   0   0   0   0   0   0   0   0   0   0   0\n",
            "    0   0   0   0   0   0   0   0   0   0]\n",
            " [  0   0   0   0   0   0   0   0   0   0   0   0   0   0   0   0   0   0\n",
            "    0   0   0   0   0   0   0   0   0   0]]\n"
          ],
          "name": "stdout"
        }
      ]
    },
    {
      "cell_type": "code",
      "metadata": {
        "id": "n35PCo2YYib_"
      },
      "source": [
        "def Data_func():\n",
        "  (X_train, Y_train), (X_test, Y_test) = tf.keras.datasets.mnist.load_data()\n",
        "  Y_train = np_utils.to_categorical(Y_train)\n",
        "  Y_test = np_utils.to_categorical(Y_test)\n",
        "  L, W, H = X_train.shape\n",
        "  X_train = X_train.reshape(-1, W * H)\n",
        "  X_test = X_test.reshape(-1, W * H)\n",
        "  X_train = X_train / 255\n",
        "  X_test = X_test / 255\n",
        "  return (X_train, Y_train), (X_test, Y_test)"
      ],
      "execution_count": null,
      "outputs": []
    },
    {
      "cell_type": "code",
      "metadata": {
        "id": "4mwa2xKNaH6K",
        "colab": {
          "base_uri": "https://localhost:8080/"
        },
        "outputId": "0a3d6d10-0692-4088-c599-df67fafe90c3"
      },
      "source": [
        "model = DNN_ModelSequential(784, 128, 128, 10)\n",
        "(x_train, y_train), (x_test, y_test) = Data_func()\n",
        "print(model.summary())\n",
        "print(x_train.shape, y_train.shape)"
      ],
      "execution_count": null,
      "outputs": [
        {
          "output_type": "stream",
          "text": [
            "/usr/local/lib/python3.7/dist-packages/tensorflow/python/keras/optimizer_v2/optimizer_v2.py:375: UserWarning: The `lr` argument is deprecated, use `learning_rate` instead.\n",
            "  \"The `lr` argument is deprecated, use `learning_rate` instead.\")\n"
          ],
          "name": "stderr"
        },
        {
          "output_type": "stream",
          "text": [
            "Model: \"sequential\"\n",
            "_________________________________________________________________\n",
            "Layer (type)                 Output Shape              Param #   \n",
            "=================================================================\n",
            "dense (Dense)                (None, 128)               100480    \n",
            "_________________________________________________________________\n",
            "dense_1 (Dense)              (None, 128)               16512     \n",
            "_________________________________________________________________\n",
            "dense_2 (Dense)              (None, 10)                1290      \n",
            "=================================================================\n",
            "Total params: 118,282\n",
            "Trainable params: 118,282\n",
            "Non-trainable params: 0\n",
            "_________________________________________________________________\n",
            "None\n",
            "(60000, 784) (60000, 10)\n"
          ],
          "name": "stdout"
        }
      ]
    },
    {
      "cell_type": "code",
      "metadata": {
        "id": "Tw3kfflwa5nl",
        "colab": {
          "base_uri": "https://localhost:8080/"
        },
        "outputId": "6bbe75f3-9f3f-4f3c-da8d-084fd9dedcf0"
      },
      "source": [
        "fit_hist = model.fit(x_train, y_train, epochs=15, batch_size=128, \n",
        "                     validation_split=0.2)\n",
        "performance_test = model.evaluate(x_test, y_test, batch_size=128)\n",
        "print('test Loss Accurecy -> ',performance_test)"
      ],
      "execution_count": null,
      "outputs": [
        {
          "output_type": "stream",
          "text": [
            "Epoch 1/15\n",
            "375/375 [==============================] - 3s 5ms/step - loss: 0.2505 - accuracy: 0.9218 - val_loss: 0.1617 - val_accuracy: 0.9481\n",
            "Epoch 2/15\n",
            "375/375 [==============================] - 2s 4ms/step - loss: 0.1258 - accuracy: 0.9622 - val_loss: 0.1408 - val_accuracy: 0.9598\n",
            "Epoch 3/15\n",
            "375/375 [==============================] - 2s 5ms/step - loss: 0.1026 - accuracy: 0.9690 - val_loss: 0.1434 - val_accuracy: 0.9602\n",
            "Epoch 4/15\n",
            "375/375 [==============================] - 2s 5ms/step - loss: 0.0898 - accuracy: 0.9733 - val_loss: 0.1223 - val_accuracy: 0.9675\n",
            "Epoch 5/15\n",
            "375/375 [==============================] - 2s 5ms/step - loss: 0.0858 - accuracy: 0.9754 - val_loss: 0.1515 - val_accuracy: 0.9619\n",
            "Epoch 6/15\n",
            "375/375 [==============================] - 2s 5ms/step - loss: 0.0775 - accuracy: 0.9779 - val_loss: 0.1276 - val_accuracy: 0.9682\n",
            "Epoch 7/15\n",
            "375/375 [==============================] - 2s 5ms/step - loss: 0.0737 - accuracy: 0.9779 - val_loss: 0.1414 - val_accuracy: 0.9643\n",
            "Epoch 8/15\n",
            "375/375 [==============================] - 2s 5ms/step - loss: 0.0690 - accuracy: 0.9806 - val_loss: 0.1495 - val_accuracy: 0.9702\n",
            "Epoch 9/15\n",
            "375/375 [==============================] - 2s 5ms/step - loss: 0.0615 - accuracy: 0.9824 - val_loss: 0.1841 - val_accuracy: 0.9664\n",
            "Epoch 10/15\n",
            "375/375 [==============================] - 2s 5ms/step - loss: 0.0644 - accuracy: 0.9824 - val_loss: 0.2080 - val_accuracy: 0.9638\n",
            "Epoch 11/15\n",
            "375/375 [==============================] - 2s 5ms/step - loss: 0.0609 - accuracy: 0.9836 - val_loss: 0.1708 - val_accuracy: 0.9681\n",
            "Epoch 12/15\n",
            "375/375 [==============================] - 2s 5ms/step - loss: 0.0558 - accuracy: 0.9848 - val_loss: 0.2060 - val_accuracy: 0.9643\n",
            "Epoch 13/15\n",
            "375/375 [==============================] - 2s 5ms/step - loss: 0.0637 - accuracy: 0.9834 - val_loss: 0.2095 - val_accuracy: 0.9687\n",
            "Epoch 14/15\n",
            "375/375 [==============================] - 2s 4ms/step - loss: 0.0583 - accuracy: 0.9852 - val_loss: 0.2044 - val_accuracy: 0.9659\n",
            "Epoch 15/15\n",
            "375/375 [==============================] - 2s 5ms/step - loss: 0.0483 - accuracy: 0.9874 - val_loss: 0.2302 - val_accuracy: 0.9651\n",
            "79/79 [==============================] - 0s 2ms/step - loss: 0.1908 - accuracy: 0.9683\n",
            "test Loss Accurecy ->  [0.19082891941070557, 0.9682999849319458]\n"
          ],
          "name": "stdout"
        }
      ]
    },
    {
      "cell_type": "code",
      "metadata": {
        "id": "NF_Hg4tzcoaN",
        "colab": {
          "base_uri": "https://localhost:8080/",
          "height": 301
        },
        "outputId": "7f5c1f92-6b54-48f4-9223-85821d166b7b"
      },
      "source": [
        "mySample = np.random.randint(10000)\n",
        "plt.imshow(X_test[mySample])\n",
        "plt.show()\n",
        "print(Y_test[mySample])\n",
        "pred = model.predict(x_test[mySample].reshape(-1,784))\n",
        "print(np.argmax(pred))"
      ],
      "execution_count": null,
      "outputs": [
        {
          "output_type": "display_data",
          "data": {
            "image/png": "[encoded data removed]",
            "text/plain": [
              "<Figure size 432x288 with 1 Axes>"
            ]
          },
          "metadata": {
            "tags": [],
            "needs_background": "light"
          }
        },
        {
          "output_type": "stream",
          "text": [
            "5\n",
            "5\n"
          ],
          "name": "stdout"
        }
      ]
    },
    {
      "cell_type": "code",
      "metadata": {
        "id": "s5a-ViC2eQch",
        "colab": {
          "base_uri": "https://localhost:8080/",
          "height": 265
        },
        "outputId": "7c92579f-0ab0-4aa8-84fc-b69f5462c292"
      },
      "source": [
        "plt.plot(fit_hist.history['loss'])\n",
        "plt.plot(fit_hist.history['val_loss'])\n",
        "plt.show()"
      ],
      "execution_count": null,
      "outputs": [
        {
          "output_type": "display_data",
          "data": {
            "image/png": "[encoded data removed]",
            "text/plain": [
              "<Figure size 432x288 with 1 Axes>"
            ]
          },
          "metadata": {
            "tags": [],
            "needs_background": "light"
          }
        }
      ]
    },
    {
      "cell_type": "code",
      "metadata": {
        "id": "V3PX1vNres1c",
        "colab": {
          "base_uri": "https://localhost:8080/",
          "height": 267
        },
        "outputId": "91ee13e3-d61e-4d0f-a219-ceeec208497a"
      },
      "source": [
        "plt.plot(fit_hist.history['accuracy'])\n",
        "plt.plot(fit_hist.history['val_accuracy'])\n",
        "plt.show()"
      ],
      "execution_count": null,
      "outputs": [
        {
          "output_type": "display_data",
          "data": {
            "image/png": "[encoded data removed]",
            "text/plain": [
              "<Figure size 432x288 with 1 Axes>"
            ]
          },
          "metadata": {
            "tags": [],
            "needs_background": "light"
          }
        }
      ]
    }
  ]
}